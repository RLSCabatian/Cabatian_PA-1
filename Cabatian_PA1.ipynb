{
 "cells": [
  {
   "cell_type": "markdown",
   "id": "2d267ffe-05ee-4853-a2a5-c64d136bb1c2",
   "metadata": {},
   "source": [
    "## 1. Alphabet Soup Problem\n"
   ]
  },
  {
   "cell_type": "code",
   "execution_count": 20,
   "id": "36f076bf-da28-4452-afe4-66931be6902c",
   "metadata": {},
   "outputs": [
    {
     "name": "stdout",
     "output_type": "stream",
     "text": [
      "ehllo\n",
      "acehkr\n"
     ]
    }
   ],
   "source": [
    "def alphabet_soup(s):\n",
    "    # Sort the characters in the string in alphabetical order.\n",
    "    print (\"\". join(sorted(s)))                         \n",
    "# Use the string to perform the function\n",
    "alphabet_soup(\"hello\")\n",
    "alphabet_soup(\"hacker\")"
   ]
  },
  {
   "cell_type": "markdown",
   "id": "85946230-0b9a-4db5-a085-4c9438e160ca",
   "metadata": {},
   "source": [
    "## 2. Emoticon Problem"
   ]
  },
  {
   "cell_type": "code",
   "execution_count": 18,
   "id": "20ebd3d6-b1df-440d-a9da-49c68a74ac6e",
   "metadata": {},
   "outputs": [
    {
     "name": "stdout",
     "output_type": "stream",
     "text": [
      "Make me :)\n",
      "I am >:(\n"
     ]
    }
   ],
   "source": [
    "def emotify(s):\n",
    "    # Remove \"smile\" and replace with \":)\" instead.\n",
    "    s = s.replace (\"Smile\", \":)\")\n",
    "    # Remove \"Grin\" and replace with \":D\" instead.\n",
    "    s = s.replace (\"Grin\", \":D)\")\n",
    "    # Remove \"Sad\" and replace with \":((\" instead.\n",
    "    s = s.replace (\"Sad\", \":((\")\n",
    "    # Remove \"Nad\" and replace with \"›:(\" instead.\n",
    "    s = s.replace (\"Mad\", \">:(\")\n",
    "    #Return the modified string with s.\n",
    "    return s\n",
    "    #Print the output of the function.\n",
    "print(emotify(\"Make me Smile\"))\n",
    "print(emotify(\"I am Mad\"))"
   ]
  },
  {
   "cell_type": "markdown",
   "id": "705bdc08-3063-4769-ae95-9e5a448f696b",
   "metadata": {},
   "source": [
    "## 3. Unpacking List Problem"
   ]
  },
  {
   "cell_type": "code",
   "execution_count": 16,
   "id": "ffdb40ae-2a41-44e1-be13-9f46f86fa5b0",
   "metadata": {},
   "outputs": [
    {
     "name": "stdout",
     "output_type": "stream",
     "text": [
      "first: 1,   middle: [2, 3, 4, 5],   last: 6\n"
     ]
    }
   ],
   "source": [
    "def unpack_list(lst):\n",
    "    # Open the first element.\n",
    "    first = lst[0]\n",
    "    # Open the middle element.\n",
    "    middle = lst[1:-1]\n",
    "    # Open the last element.\n",
    "    last = lst[-1]\n",
    "    # Print the output.\n",
    "    print (\"first: {},   middle: {},   last: {}\". format(first, middle, last))\n",
    "\n",
    "unpack_list (lst = [1, 2, 3, 4, 5, 6])"
   ]
  }
 ],
 "metadata": {
  "kernelspec": {
   "display_name": "Python 3 (ipykernel)",
   "language": "python",
   "name": "python3"
  },
  "language_info": {
   "codemirror_mode": {
    "name": "ipython",
    "version": 3
   },
   "file_extension": ".py",
   "mimetype": "text/x-python",
   "name": "python",
   "nbconvert_exporter": "python",
   "pygments_lexer": "ipython3",
   "version": "3.12.4"
  }
 },
 "nbformat": 4,
 "nbformat_minor": 5
}
